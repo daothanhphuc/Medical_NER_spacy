{
 "cells": [
  {
   "cell_type": "code",
   "execution_count": 11,
   "metadata": {},
   "outputs": [],
   "source": [
    "import spacy\n",
    "from spacy import displacy\n",
    "from IPython.display import display, HTML\n",
    "# Load the pre-trained SpaCy model for general NER\n",
    "nlp = spacy.load(\"en_core_web_sm\")"
   ]
  },
  {
   "cell_type": "code",
   "execution_count": 12,
   "metadata": {},
   "outputs": [],
   "source": [
    "with open(\"sample.txt\", \"r\", encoding=\"utf-8\") as file:\n",
    "    text = file.read()"
   ]
  },
  {
   "cell_type": "code",
   "execution_count": 13,
   "metadata": {},
   "outputs": [
    {
     "name": "stdout",
     "output_type": "stream",
     "text": [
      "Jessica Messersmith 69 88 PERSON\n",
      "the University of South Dakota 108 138 ORG\n",
      "2019 288 292 DATE\n",
      "American Academy of Audiology 293 322 ORG\n",
      "2016 767 771 CARDINAL\n",
      "Messersmith 805 816 PERSON\n",
      "Geers 858 863 PERSON\n",
      "the next year 889 902 DATE\n",
      "Pediatrics 906 916 GPE\n",
      "97 937 939 CARDINAL\n",
      "ASL 1056 1059 ORG\n",
      "ASL 1537 1540 PRODUCT\n",
      "Deborah Chen Pichler 1892 1912 PERSON\n",
      "Gallaudet University 1942 1962 ORG\n"
     ]
    }
   ],
   "source": [
    "doc = nlp(text)\n",
    "for ent in doc.ents:\n",
    "    print(ent.text, ent.start_char, ent.end_char, ent.label_)"
   ]
  },
  {
   "cell_type": "code",
   "execution_count": 14,
   "metadata": {},
   "outputs": [
    {
     "name": "stdout",
     "output_type": "stream",
     "text": [
      "NER visualization saved to ner_output.html\n"
     ]
    }
   ],
   "source": [
    "html = displacy.render(doc, style=\"ent\", jupyter=False)\n",
    "with open(\"ner_output.html\", \"w\", encoding=\"utf-8\") as f:\n",
    "    f.write(html)\n",
    "print(\"NER visualization saved to ner_output.html\")"
   ]
  }
 ],
 "metadata": {
  "kernelspec": {
   "display_name": "Python 3",
   "language": "python",
   "name": "python3"
  },
  "language_info": {
   "codemirror_mode": {
    "name": "ipython",
    "version": 3
   },
   "file_extension": ".py",
   "mimetype": "text/x-python",
   "name": "python",
   "nbconvert_exporter": "python",
   "pygments_lexer": "ipython3",
   "version": "3.12.5"
  }
 },
 "nbformat": 4,
 "nbformat_minor": 2
}
